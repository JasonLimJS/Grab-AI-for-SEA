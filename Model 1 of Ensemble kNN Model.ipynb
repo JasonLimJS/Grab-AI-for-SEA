{
  "nbformat": 4,
  "nbformat_minor": 0,
  "metadata": {
    "colab": {
      "name": "Grab AI for SEA Challenge-  Model 1 (Training on Latest 15- Day Data).ipynb",
      "version": "0.3.2",
      "provenance": [],
      "collapsed_sections": [],
      "include_colab_link": true
    },
    "kernelspec": {
      "name": "python3",
      "display_name": "Python 3"
    },
    "accelerator": "GPU"
  },
  "cells": [
    {
      "cell_type": "markdown",
      "metadata": {
        "id": "view-in-github",
        "colab_type": "text"
      },
      "source": [
        "<a href=\"https://colab.research.google.com/github/JasonLimJS/Grab-AI-for-SEA/blob/master/Model%201%20of%20Ensemble%20kNN%20Model.ipynb\" target=\"_parent\"><img src=\"https://colab.research.google.com/assets/colab-badge.svg\" alt=\"Open In Colab\"/></a>"
      ]
    },
    {
      "cell_type": "code",
      "metadata": {
        "id": "9M3hwAuqvm7h",
        "colab_type": "code",
        "colab": {}
      },
      "source": [
        "from google.colab import drive\n",
        "import pandas as pd\n",
        "import numpy as np\n",
        "from sklearn.neighbors import KNeighborsRegressor\n",
        "from sklearn.metrics import mean_squared_error as MSE\n",
        "from sklearn.preprocessing import StandardScaler\n",
        "from sklearn.pipeline import Pipeline\n",
        "from sklearn.model_selection import GridSearchCV, train_test_split\n",
        "from sklearn.decomposition import PCA\n",
        "from sklearn.pipeline import Pipeline\n",
        "from scipy import stats\n",
        "import time\n",
        "import pickle\n",
        "\n",
        "from sklearn.externals import joblib\n",
        "\n",
        "drive.mount('drive')"
      ],
      "execution_count": 0,
      "outputs": []
    },
    {
      "cell_type": "markdown",
      "metadata": {
        "id": "1vzwoVrIwCd1",
        "colab_type": "text"
      },
      "source": [
        "Define function to train and test kNN model :"
      ]
    },
    {
      "cell_type": "code",
      "metadata": {
        "id": "zfudx4EEwGUA",
        "colab_type": "code",
        "colab": {}
      },
      "source": [
        "def train_test_kNN(X_train,X_test,y_train,y_test, Model, max_neighbor):\n",
        "\n",
        "  kNN= KNeighborsRegressor()\n",
        "\n",
        "  params_kNN= {'n_neighbors':list(range(1,max_neighbor+1)), 'weights':['uniform','distance']}\n",
        "\n",
        "  grid_kNN = GridSearchCV(estimator=kNN,\n",
        "                   param_grid= params_kNN,\n",
        "                   scoring='neg_mean_squared_error',\n",
        "                   cv=5,\n",
        "                   n_jobs=-1)\n",
        "\n",
        "  start_time= time.time()\n",
        "  grid_kNN.fit(X_train,y_train)\n",
        "  end_time= time.time() - start_time\n",
        "\n",
        "  best_kNN= grid_kNN.best_estimator_\n",
        "  y_pred= best_kNN.predict(X_test)\n",
        "  r2= best_kNN.score(X_test,y_test)\n",
        "  rmse= MSE(y_test,y_pred)**0.5\n",
        "\n",
        "\n",
        "  print(Model + ' uses ' + str(end_time) + ' secs to train, having R2 value of ' + str(r2) + ' and RSME of ' + str(rmse))\n",
        "  print('The best model is of this type is: ' + str(best_kNN))"
      ],
      "execution_count": 0,
      "outputs": []
    },
    {
      "cell_type": "markdown",
      "metadata": {
        "id": "fTW-LgvWxGbK",
        "colab_type": "text"
      },
      "source": [
        "Model 1"
      ]
    },
    {
      "cell_type": "code",
      "metadata": {
        "id": "QydbikOzxIpj",
        "colab_type": "code",
        "colab": {}
      },
      "source": [
        "raw= pd.read_csv('drive/My Drive/raw.csv')\n",
        "\n",
        "raw.sort_values(by=['geohash6','day','time_min'],inplace=True)\n",
        "raw.index= raw.geohash6.values\n",
        "last_day= pd.DataFrame({'last_day':raw.groupby('geohash6').day.tail(1)})\n",
        "start_day= last_day - 14\n",
        "start_day.columns= ['start_day']\n",
        "raw_last= pd.merge(left=raw,right=last_day,left_index=True,right_index=True)\n",
        "raw_start_last= pd.merge(left=raw_last,right=start_day,left_index=True,right_index=True)\n",
        "\n",
        "last_15d= raw_start_last[np.logical_and(raw_start_last.day>=raw_start_last.start_day,raw_start_last.day<=raw_start_last.last_day)]\n",
        "\n",
        "last_15d.to_csv('last_15d.csv')\n",
        "!cp last_15d.csv drive/My\\ Drive/\n",
        "\n",
        "last_15d= pd.read_csv('drive/My Drive/last_15d.csv')\n",
        "\n",
        "arranged_col= ['lat','long','time_min']\n",
        "X= last_15d[arranged_col].values\n",
        "y= last_15d.demand.values\n",
        "X_train, X_test, y_train, y_test= train_test_split(X, y, random_state= 7, \\\n",
        "                                                   test_size=0.35,stratify=X[:,2])\n",
        "norm= StandardScaler()\n",
        "\n",
        "X_train_scaled= norm.fit_transform(X_train)\n",
        "norm_mean= norm.mean_\n",
        "norm_std= norm.var_**0.5\n",
        "X_test_scaled= norm.transform(X_test)\n",
        "\n",
        "Model1= \"Model 1\"\n",
        "\n",
        "train_test_kNN(X_train_scaled,X_test_scaled,y_train,y_test, Model1, 60)\n",
        "\n",
        "######################## Best Model after Hyperparameter Tuning is : #######################\n",
        "\n",
        "#Training time: 3713.8608691692352 secs, R2 value: 0.8745999622040456, RSME: 0.058954128844778846\n",
        "\n",
        "#KNeighborsRegressor(algorithm='auto', leaf_size=30, metric='minkowski',\n",
        "#metric_params=None, n_jobs=None, n_neighbors=22, p=2,\n",
        "#weights='uniform')\n",
        "\n",
        "#norm_mean= np.array([ -5.34803514,  90.76456439, 611.01511076])\n",
        "#norm_std= np.array([5.74593198e-02, 1.02564882e-01, 3.91570353e+02])\n",
        "\n",
        "\n",
        "best_model1= KNeighborsRegressor(algorithm='auto', leaf_size=30, metric='minkowski',\n",
        "                   metric_params=None, n_jobs=None, n_neighbors=22, p=2,\n",
        "                    weights='uniform')\n",
        "\n",
        "best_model1.fit(X_train_scaled,y_train)\n",
        "\n",
        "y_pred= best_model1.predict(X_test_scaled)\n",
        "r2= best_model1.score(X_test_scaled,y_test)\n",
        "rmse= MSE(y_test,y_pred)**0.5\n",
        "\n",
        "print('r2: ' + str(r2))\n",
        "print('rmse: ' + str(rmse))\n",
        "\n",
        "#r2: 0.8745999622040456\n",
        "#rmse: 0.058954128844778846\n",
        "\n",
        "joblib.dump(best_model1,'kNN_Model1.pkl')\n",
        "!cp kNN_Model1.pkl drive/My\\ Drive/\n"
      ],
      "execution_count": 0,
      "outputs": []
    }
  ]
}